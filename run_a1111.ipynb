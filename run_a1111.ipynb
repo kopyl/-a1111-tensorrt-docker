{
 "cells": [
  {
   "cell_type": "code",
   "execution_count": null,
   "metadata": {},
   "outputs": [],
   "source": [
    "!python webui.py --port 3000 --listen --enable-insecure-extension-access --xformers"
   ]
  }
 ],
 "metadata": {
  "language_info": {
   "name": "python"
  }
 },
 "nbformat": 4,
 "nbformat_minor": 2
}
